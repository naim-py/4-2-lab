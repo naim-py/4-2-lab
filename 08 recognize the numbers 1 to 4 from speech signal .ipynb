{
 "cells": [
  {
   "cell_type": "code",
   "execution_count": 2,
   "id": "6ba3d183-02eb-4109-9840-43e4d05b11fb",
   "metadata": {},
   "outputs": [
    {
     "ename": "NotADirectoryError",
     "evalue": "[WinError 267] The directory name is invalid: 'speech_digit_dataset.csv'",
     "output_type": "error",
     "traceback": [
      "\u001b[1;31m---------------------------------------------------------------------------\u001b[0m",
      "\u001b[1;31mNotADirectoryError\u001b[0m                        Traceback (most recent call last)",
      "Cell \u001b[1;32mIn[2], line 44\u001b[0m\n\u001b[0;32m     42\u001b[0m \u001b[38;5;66;03m# Step 3: Prepare the data\u001b[39;00m\n\u001b[0;32m     43\u001b[0m data_dir \u001b[38;5;241m=\u001b[39m \u001b[38;5;124m'\u001b[39m\u001b[38;5;124mspeech_digit_dataset.csv\u001b[39m\u001b[38;5;124m'\u001b[39m  \u001b[38;5;66;03m# Replace with the actual data directory\u001b[39;00m\n\u001b[1;32m---> 44\u001b[0m X, y \u001b[38;5;241m=\u001b[39m \u001b[43mload_dataset\u001b[49m\u001b[43m(\u001b[49m\u001b[43mdata_dir\u001b[49m\u001b[43m)\u001b[49m\n\u001b[0;32m     46\u001b[0m \u001b[38;5;66;03m# Reshape the features to be fed into ANN\u001b[39;00m\n\u001b[0;32m     47\u001b[0m X \u001b[38;5;241m=\u001b[39m X\u001b[38;5;241m.\u001b[39mreshape(X\u001b[38;5;241m.\u001b[39mshape[\u001b[38;5;241m0\u001b[39m], \u001b[38;5;241m-\u001b[39m\u001b[38;5;241m1\u001b[39m)\n",
      "Cell \u001b[1;32mIn[2], line 30\u001b[0m, in \u001b[0;36mload_dataset\u001b[1;34m(data_dir, max_len)\u001b[0m\n\u001b[0;32m     27\u001b[0m features \u001b[38;5;241m=\u001b[39m []\n\u001b[0;32m     28\u001b[0m labels \u001b[38;5;241m=\u001b[39m []\n\u001b[1;32m---> 30\u001b[0m \u001b[38;5;28;01mfor\u001b[39;00m folder_name \u001b[38;5;129;01min\u001b[39;00m \u001b[43mos\u001b[49m\u001b[38;5;241;43m.\u001b[39;49m\u001b[43mlistdir\u001b[49m\u001b[43m(\u001b[49m\u001b[43mdata_dir\u001b[49m\u001b[43m)\u001b[49m:\n\u001b[0;32m     31\u001b[0m     label \u001b[38;5;241m=\u001b[39m \u001b[38;5;28mint\u001b[39m(folder_name) \u001b[38;5;241m-\u001b[39m \u001b[38;5;241m1\u001b[39m  \u001b[38;5;66;03m# Assuming folders are named '1', '2', '3', '4'\u001b[39;00m\n\u001b[0;32m     32\u001b[0m     folder_path \u001b[38;5;241m=\u001b[39m os\u001b[38;5;241m.\u001b[39mpath\u001b[38;5;241m.\u001b[39mjoin(data_dir, folder_name)\n",
      "\u001b[1;31mNotADirectoryError\u001b[0m: [WinError 267] The directory name is invalid: 'speech_digit_dataset.csv'"
     ]
    }
   ],
   "source": [
    "import pandas as pd\n",
    "import numpy as np\n",
    "import librosa\n",
    "from sklearn.model_selection import train_test_split\n",
    "from tensorflow.keras.models import Sequential\n",
    "from tensorflow.keras.layers import Dense\n",
    "from tensorflow.keras.utils import to_categorical\n",
    "\n",
    "# Function to extract MFCC features from speech\n",
    "def extract_mfcc(file_path, n_mfcc=13, max_len=100):\n",
    "    \"\"\"Extract MFCC features from an audio file.\"\"\"\n",
    "    signal, sr = librosa.load(file_path, sr=None)\n",
    "    mfcc = librosa.feature.mfcc(signal, sr=sr, n_mfcc=n_mfcc)\n",
    "    \n",
    "    # Padding or truncating to ensure all MFCCs have the same length\n",
    "    if mfcc.shape[1] > max_len:\n",
    "        mfcc = mfcc[:, :max_len]\n",
    "    else:\n",
    "        mfcc = np.pad(mfcc, ((0, 0), (0, max_len - mfcc.shape[1])), mode='constant')\n",
    "    \n",
    "    return mfcc\n",
    "\n",
    "# Load dataset from CSV file\n",
    "def load_dataset(csv_file, max_len=100):\n",
    "    \"\"\"Load dataset from a CSV file and return features and labels.\"\"\"\n",
    "    data = pd.read_csv(csv_file)\n",
    "    features = []\n",
    "    labels = []\n",
    "    \n",
    "    for index, row in data.iterrows():\n",
    "        file_path = row['file_name']\n",
    "        label = row['label'] - 1  # Labels should be 0-indexed for categorical\n",
    "        mfcc = extract_mfcc(file_path, max_len=max_len)\n",
    "        features.append(mfcc)\n",
    "        labels.append(label)\n",
    "    \n",
    "    return np.array(features), np.array(labels)\n",
    "\n",
    "# Step 3: Prepare the data\n",
    "csv_file = 'speech_digit_dataset.csv'  # Replace with the actual path to your CSV\n",
    "X, y = load_dataset(csv_file)\n",
    "\n",
    "# Reshape the features to be fed into ANN\n",
    "X = X.reshape(X.shape[0], -1)\n",
    "\n",
    "# One-hot encode the labels\n",
    "y = to_categorical(y, num_classes=4)\n",
    "\n",
    "# Split the data into training and testing sets\n",
    "X_train, X_test, y_train, y_test = train_test_split(X, y, test_size=0.2, random_state=42)\n",
    "\n",
    "# Build the ANN model\n",
    "model = Sequential()\n",
    "\n",
    "# Input layer\n",
    "model.add(Dense(128, input_shape=(X_train.shape[1],), activation='relu'))\n",
    "\n",
    "# Hidden layer\n",
    "model.add(Dense(64, activation='relu'))\n",
    "\n",
    "# Output layer (4 classes for digits 1 to 4)\n",
    "model.add(Dense(4, activation='softmax'))\n",
    "\n",
    "# Compile the model\n",
    "model.compile(optimizer='adam', loss='categorical_crossentropy', metrics=['accuracy'])\n",
    "\n",
    "# Train the model\n",
    "model.fit(X_train, y_train, epochs=20, batch_size=32, validation_data=(X_test, y_test))\n",
    "\n",
    "# Evaluate the model on test data\n",
    "test_loss, test_acc = model.evaluate(X_test, y_test)\n",
    "print(f\"Test accuracy: {test_acc * 100:.2f}%\")\n"
   ]
  },
  {
   "cell_type": "code",
   "execution_count": null,
   "id": "49303db2-cfc0-42b5-a452-be987c14914b",
   "metadata": {},
   "outputs": [],
   "source": []
  }
 ],
 "metadata": {
  "kernelspec": {
   "display_name": "Python 3 (ipykernel)",
   "language": "python",
   "name": "python3"
  },
  "language_info": {
   "codemirror_mode": {
    "name": "ipython",
    "version": 3
   },
   "file_extension": ".py",
   "mimetype": "text/x-python",
   "name": "python",
   "nbconvert_exporter": "python",
   "pygments_lexer": "ipython3",
   "version": "3.9.10"
  },
  "widgets": {
   "application/vnd.jupyter.widget-state+json": {
    "state": {},
    "version_major": 2,
    "version_minor": 0
   }
  }
 },
 "nbformat": 4,
 "nbformat_minor": 5
}
