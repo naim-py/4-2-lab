{
 "cells": [
  {
   "cell_type": "markdown",
   "id": "acd9a528-a2fb-449e-936a-7d52d3aaa36f",
   "metadata": {},
   "source": [
    "# 01 \n",
    "Write a program in python to develop a simple calculator that would be able to\n",
    "take a number, an operator (addition/subtraction/multiplication/ division/modulo) and\n",
    "another number consecutively as input and the program will display the output after\n",
    "pressing \"=\" sign. Sample input: 1+2; 8%4; Sample output: 1+2=3; 8%4=0."
   ]
  },
  {
   "cell_type": "code",
   "execution_count": 1,
   "id": "03fe5317-3894-4df3-a645-72c0d2a4d089",
   "metadata": {},
   "outputs": [
    {
     "name": "stdin",
     "output_type": "stream",
     "text": [
      "Enter num1:  6\n",
      "Enter num2:  3\n",
      "Enter +, -, *, /, %:  *\n",
      "Enter =:  =\n"
     ]
    },
    {
     "name": "stdout",
     "output_type": "stream",
     "text": [
      "6.0 * 3.0 = 18.0\n"
     ]
    }
   ],
   "source": [
    "# Python program for basic arithmetic operations\n",
    "\n",
    "# Taking input from the user\n",
    "num1 = float(input(\"Enter num1: \"))\n",
    "num2 = float(input(\"Enter num2: \"))\n",
    "\n",
    "charecter = input(\"Enter +, -, *, /, %: \")\n",
    "press = input(\"Enter =: \")\n",
    "\n",
    "# Performing the operation when the '=' is pressed\n",
    "if press == '=':\n",
    "    if charecter == '+':\n",
    "        print(f\"{num1} + {num2} = {num1 + num2}\")\n",
    "    elif charecter == '-':\n",
    "        print(f\"{num1} - {num2} = {num1 - num2}\")\n",
    "    elif charecter == '*':\n",
    "        print(f\"{num1} * {num2} = {num1 * num2}\")\n",
    "    elif charecter == '/':\n",
    "        if num2 != 0:\n",
    "            print(f\"{num1} / {num2} = {num1 / num2}\")\n",
    "        else:\n",
    "            print(\"Division by zero is not allowed.\")\n",
    "    elif charecter == '%':\n",
    "        print(f\"{num1} % {num2} = {int(num1) % int(num2)}\")\n",
    "    else:\n",
    "        print(\"Invalid operator\")\n"
   ]
  },
  {
   "cell_type": "markdown",
   "id": "d4e2bd3f-3e08-4c5c-913b-2b95a5b3e008",
   "metadata": {},
   "source": [
    "# 02\n",
    "Write a program in \"JAVA\" or \"C\" that will take two 'n' integers as input until a particular\n",
    "operator and produce 'n' output.\n",
    "Sample input: 4 5 7 8 20 40 +; Sample output: 9 15 60."
   ]
  },
  {
   "cell_type": "code",
   "execution_count": 2,
   "id": "8937a837-2ada-41c6-81a9-061a2f593098",
   "metadata": {},
   "outputs": [
    {
     "name": "stdin",
     "output_type": "stream",
     "text": [
      "Enter number:  3\n"
     ]
    },
    {
     "name": "stdout",
     "output_type": "stream",
     "text": [
      "Enter numbers:\n"
     ]
    },
    {
     "name": "stdin",
     "output_type": "stream",
     "text": [
      " 4\n",
      " 5\n",
      " 6\n",
      " 7\n",
      " 8\n",
      " 9\n",
      "Enter operator (+, -, *, /):  +\n"
     ]
    },
    {
     "name": "stdout",
     "output_type": "stream",
     "text": [
      "4.0 + 5.0 = 9.0\n",
      "6.0 + 7.0 = 13.0\n",
      "8.0 + 9.0 = 17.0\n"
     ]
    }
   ],
   "source": [
    "# Python program converted from C++\n",
    "\n",
    "# Taking input from the user\n",
    "n = int(input(\"Enter number: \"))\n",
    "\n",
    "# Initializing a vector with 2*n elements\n",
    "vec = [0] * (2 * n)\n",
    "\n",
    "print(\"Enter numbers:\")\n",
    "for i in range(2 * n):\n",
    "    vec[i] = float(input())\n",
    "\n",
    "# Taking the operator input\n",
    "ch = input(\"Enter operator (+, -, *, /): \")\n",
    "\n",
    "# Performing operations based on the input operator\n",
    "if ch == '+':\n",
    "    for i in range(0, 2 * n, 2):\n",
    "        print(f\"{vec[i]} + {vec[i+1]} = {vec[i] + vec[i+1]}\")\n",
    "elif ch == '-':\n",
    "    for i in range(0, 2 * n, 2):\n",
    "        print(f\"{vec[i]} - {vec[i+1]} = {vec[i] - vec[i+1]}\")\n",
    "elif ch == '*':\n",
    "    for i in range(0, 2 * n, 2):\n",
    "        print(f\"{vec[i]} * {vec[i+1]} = {vec[i] * vec[i+1]}\")\n",
    "elif ch == '/':\n",
    "    for i in range(0, 2 * n, 2):\n",
    "        if vec[i+1] != 0:\n",
    "            print(f\"{vec[i]} / {vec[i+1]} = {vec[i] / vec[i+1]}\")\n",
    "        else:\n",
    "            print(f\"Division by zero is not allowed for {vec[i]} / {vec[i+1]}\")\n",
    "else:\n",
    "    print(\"Invalid operator\")\n"
   ]
  },
  {
   "cell_type": "markdown",
   "id": "4dad0ca0-5b4e-40e8-a4c4-f6b1cfad6af8",
   "metadata": {},
   "source": [
    "# 03\n",
    "Write a program in \"JAVA\" or \"C\" to check weather a number or string is palindrome or\n",
    "not.\n",
    "N.B: your program must not take any test case number such as 1 or 2 for the desired cases\n",
    "from the user. Program user will insert a number or string as input directly and the program\n",
    "will display the exact result in the output console.\n"
   ]
  },
  {
   "cell_type": "code",
   "execution_count": 3,
   "id": "15fed528-1772-4cf6-9c01-13e778c0fea1",
   "metadata": {},
   "outputs": [
    {
     "name": "stdin",
     "output_type": "stream",
     "text": [
      "Enter a number to find factorial:  10\n"
     ]
    },
    {
     "name": "stdout",
     "output_type": "stream",
     "text": [
      "Factorial in iteration 1 is: 1 * 10 = 1\n",
      "Factorial in iteration 2 is: 10 * 9 = 10\n",
      "Factorial in iteration 3 is: 90 * 8 = 90\n",
      "Factorial in iteration 4 is: 720 * 7 = 720\n",
      "Factorial in iteration 5 is: 5040 * 6 = 5040\n",
      "Factorial in iteration 6 is: 30240 * 5 = 30240\n",
      "Factorial in iteration 7 is: 151200 * 4 = 151200\n",
      "Factorial in iteration 8 is: 604800 * 3 = 604800\n",
      "Factorial in iteration 9 is: 1814400 * 2 = 1814400\n",
      "Factorial in iteration 10 is: 3628800 * 1 = 3628800\n",
      "\n",
      "10! = 3628800\n"
     ]
    }
   ],
   "source": [
    "# Python program to calculate the factorial of a number\n",
    "\n",
    "# Taking input from the user\n",
    "number = int(input(\"Enter a number to find factorial: \"))\n",
    "\n",
    "fact = 1\n",
    "j = 1\n",
    "\n",
    "# Calculating factorial with detailed output per iteration\n",
    "for i in range(number, 0, -1):\n",
    "    print(f\"Factorial in iteration {j} is: {fact} * {i} = {fact}\")\n",
    "    fact = fact * i\n",
    "    j += 1\n",
    "\n",
    "# Printing the final factorial result\n",
    "print(f\"\\n{number}! = {fact}\")\n"
   ]
  },
  {
   "cell_type": "markdown",
   "id": "1b8f049d-48bc-4c01-ab40-2a2c4ba83480",
   "metadata": {},
   "source": [
    "# 04 \n",
    "Write down the ATM system specifications and report the various bugs."
   ]
  },
  {
   "cell_type": "code",
   "execution_count": 6,
   "id": "94c8c01d-b9ea-43b6-a153-2c62079e34b3",
   "metadata": {},
   "outputs": [
    {
     "name": "stdin",
     "output_type": "stream",
     "text": [
      "Enter array size:  5\n"
     ]
    },
    {
     "name": "stdout",
     "output_type": "stream",
     "text": [
      "Enter array elements:\n"
     ]
    },
    {
     "name": "stdin",
     "output_type": "stream",
     "text": [
      " 4\n",
      " 5\n",
      " 6\n",
      " 2\n",
      " 7\n"
     ]
    },
    {
     "name": "stdout",
     "output_type": "stream",
     "text": [
      "\n",
      "Sum: 24\n",
      "\n",
      "Average: 4.8\n"
     ]
    }
   ],
   "source": []
  },
  {
   "cell_type": "markdown",
   "id": "b08a288b-f1c6-4024-9373-155deab98027",
   "metadata": {},
   "source": [
    "# 05 \n",
    "Write a program in \"JAVA\" or \"C\" to find out the factorial of a number using while or for\n",
    "loop. Also verify the results obtained from each case."
   ]
  },
  {
   "cell_type": "code",
   "execution_count": 18,
   "id": "5b874b5f-a516-4827-b729-75651601e540",
   "metadata": {},
   "outputs": [
    {
     "name": "stdin",
     "output_type": "stream",
     "text": [
      "Enter a number:  6\n"
     ]
    },
    {
     "name": "stdout",
     "output_type": "stream",
     "text": [
      "Factorial using for loop: 720\n",
      "Factorial using while loop: 720\n"
     ]
    }
   ],
   "source": [
    "# Input number from the user\n",
    "num = int(input(\"Enter a number: \"))\n",
    "\n",
    "# Calculating factorial using a for loop\n",
    "fact = 1\n",
    "for i in range(1, num + 1):\n",
    "    fact *= i\n",
    "print(f\"Factorial using for loop: {fact}\")\n",
    "\n",
    "# Calculating factorial using a while loop\n",
    "fact = 1\n",
    "i = 1\n",
    "while i <= num:\n",
    "    fact *= i\n",
    "    i += 1\n",
    "print(f\"Factorial using while loop: {fact}\")\n"
   ]
  },
  {
   "cell_type": "markdown",
   "id": "9a85cd78-a2b6-4f11-af30-768ce00c048f",
   "metadata": {},
   "source": [
    "# 06\n",
    "Write a program in \"JAVA\" or \"C\" that will find sum and average of array using do while\n",
    "loop and 2 user defined function."
   ]
  },
  {
   "cell_type": "code",
   "execution_count": 15,
   "id": "06c3967d-e461-4211-bbb4-73867ec1bd78",
   "metadata": {},
   "outputs": [
    {
     "name": "stdin",
     "output_type": "stream",
     "text": [
      "Enter array size:  5\n"
     ]
    },
    {
     "name": "stdout",
     "output_type": "stream",
     "text": [
      "Enter array elements: \n"
     ]
    },
    {
     "name": "stdin",
     "output_type": "stream",
     "text": [
      " 2\n",
      " 3\n",
      " 5\n",
      " 6\n",
      " 7\n"
     ]
    },
    {
     "name": "stdout",
     "output_type": "stream",
     "text": [
      "\n",
      "Sum: 23\n",
      "\n",
      "Average: 4.6\n"
     ]
    }
   ],
   "source": [
    "# Function to calculate the sum of the array\n",
    "def sum_array(arr1):\n",
    "    i = 0\n",
    "    total_sum = 0\n",
    "    while i < len(arr1):\n",
    "        total_sum += arr1[i]\n",
    "        i += 1\n",
    "    print(f\"Sum: {total_sum}\")\n",
    "\n",
    "# Function to calculate the average of the array\n",
    "def avg_array(arr1):\n",
    "    i = 0\n",
    "    total_sum = 0\n",
    "    while i < len(arr1):\n",
    "        total_sum += arr1[i]\n",
    "        i += 1\n",
    "    print(f\"Average: {total_sum / len(arr1)}\")\n",
    "\n",
    "# Main program\n",
    "def main():\n",
    "    n = int(input(\"Enter array size: \"))\n",
    "    arr = []\n",
    "\n",
    "    print(\"Enter array elements: \")\n",
    "    for i in range(n):\n",
    "        arr.append(int(input()))  # Adding elements to the array\n",
    "\n",
    "    print()\n",
    "    sum_array(arr)  # Calling sum function\n",
    "    print()\n",
    "    avg_array(arr)  # Calling average function\n",
    "\n",
    "if __name__ == \"__main__\":\n",
    "    main()\n"
   ]
  },
  {
   "cell_type": "markdown",
   "id": "2d013111-322f-49a3-850e-9bbf599fb7d0",
   "metadata": {},
   "source": [
    "# 07\n",
    "Write a simple \"JAVA\" program to explain classNotFound Exception and\n",
    "endOfFile(EOF) exception"
   ]
  },
  {
   "cell_type": "code",
   "execution_count": 12,
   "id": "e1736602-250f-48f6-99bd-4199fc4c38ce",
   "metadata": {},
   "outputs": [
    {
     "name": "stdout",
     "output_type": "stream",
     "text": [
      "Class Found inside module.\n",
      "---------\n",
      "EOF exception for output\n",
      "File not found: input.txt\n"
     ]
    }
   ],
   "source": [
    "# Importing necessary modules\n",
    "import os\n",
    "\n",
    "# Simulating the `Study.ExistClass`\n",
    "class ExistClass:\n",
    "    @staticmethod\n",
    "    def get_department_name():\n",
    "        print(\"Information and Communication Engineering\")\n",
    "\n",
    "# Main code\n",
    "def main():\n",
    "    try:\n",
    "        # Simulating Class.forName equivalent in Python\n",
    "        # Checking if the class ExistClass exists in the module\n",
    "        if 'ExistClass' in globals():\n",
    "            print(\"Class Found inside module.\\n---------\")\n",
    "        else:\n",
    "            raise ImportError(\"ClassNotFoundException\")\n",
    "    except ImportError:\n",
    "        print(\"ClassNotFoundException\")\n",
    "    \n",
    "    print(\"EOF exception for output\")\n",
    "\n",
    "    # Handling file read operation\n",
    "    try:\n",
    "        with open('input.txt', 'rb') as f:\n",
    "            while True:\n",
    "                try:\n",
    "                    ch = f.read(1)  # Reading one byte at a time\n",
    "                    if not ch:  # If end of file is reached, break the loop\n",
    "                        break\n",
    "                    print(ch.decode(), end='')  # Decoding and printing the byte as a character\n",
    "                except EOFError:\n",
    "                    print(\"\\nEnd of file reached\")\n",
    "                    break\n",
    "    except FileNotFoundError:\n",
    "        print(\"File not found: input.txt\")\n",
    "    except Exception as e:\n",
    "        print(f\"An error occurred: {e}\")\n",
    "\n",
    "if __name__ == \"__main__\":\n",
    "    main()\n"
   ]
  },
  {
   "cell_type": "markdown",
   "id": "4ff35536-8fe2-4102-9c13-810d48115378",
   "metadata": {},
   "source": [
    "# 08\n",
    "Write a program in \"JAVA\" or \"C\" that will read a input.txt file containing n positive\n",
    "integers and calculate addition, subtraction, multiplication and division in separate\n",
    "output.txt file.\n",
    "Sample input: 5 5 9 8; Sample output: Case-1:10 0 25 1; Case-2: 17 1 72 1."
   ]
  },
  {
   "cell_type": "code",
   "execution_count": 14,
   "id": "1b635788-b35f-4575-9020-f59055bc15c7",
   "metadata": {},
   "outputs": [
    {
     "ename": "FileNotFoundError",
     "evalue": "[Errno 2] No such file or directory: 'input.txt'",
     "output_type": "error",
     "traceback": [
      "\u001b[1;31m---------------------------------------------------------------------------\u001b[0m",
      "\u001b[1;31mFileNotFoundError\u001b[0m                         Traceback (most recent call last)",
      "Cell \u001b[1;32mIn[14], line 5\u001b[0m\n\u001b[0;32m      1\u001b[0m \u001b[38;5;66;03m# Python equivalent of the C++ code\u001b[39;00m\n\u001b[0;32m      2\u001b[0m \n\u001b[0;32m      3\u001b[0m \u001b[38;5;66;03m# Redirecting input/output to files\u001b[39;00m\n\u001b[0;32m      4\u001b[0m \u001b[38;5;28;01mimport\u001b[39;00m \u001b[38;5;21;01msys\u001b[39;00m\n\u001b[1;32m----> 5\u001b[0m sys\u001b[38;5;241m.\u001b[39mstdin \u001b[38;5;241m=\u001b[39m \u001b[38;5;28;43mopen\u001b[39;49m\u001b[43m(\u001b[49m\u001b[38;5;124;43m'\u001b[39;49m\u001b[38;5;124;43minput.txt\u001b[39;49m\u001b[38;5;124;43m'\u001b[39;49m\u001b[43m,\u001b[49m\u001b[43m \u001b[49m\u001b[38;5;124;43m'\u001b[39;49m\u001b[38;5;124;43mr\u001b[39;49m\u001b[38;5;124;43m'\u001b[39;49m\u001b[43m)\u001b[49m\n\u001b[0;32m      6\u001b[0m sys\u001b[38;5;241m.\u001b[39mstdout \u001b[38;5;241m=\u001b[39m \u001b[38;5;28mopen\u001b[39m(\u001b[38;5;124m'\u001b[39m\u001b[38;5;124moutput.txt\u001b[39m\u001b[38;5;124m'\u001b[39m, \u001b[38;5;124m'\u001b[39m\u001b[38;5;124mw\u001b[39m\u001b[38;5;124m'\u001b[39m)\n\u001b[0;32m      8\u001b[0m \u001b[38;5;66;03m# Read the number of test cases\u001b[39;00m\n",
      "File \u001b[1;32m~\\AppData\\Local\\Programs\\Python\\Python39\\lib\\site-packages\\IPython\\core\\interactiveshell.py:286\u001b[0m, in \u001b[0;36m_modified_open\u001b[1;34m(file, *args, **kwargs)\u001b[0m\n\u001b[0;32m    279\u001b[0m \u001b[38;5;28;01mif\u001b[39;00m file \u001b[38;5;129;01min\u001b[39;00m {\u001b[38;5;241m0\u001b[39m, \u001b[38;5;241m1\u001b[39m, \u001b[38;5;241m2\u001b[39m}:\n\u001b[0;32m    280\u001b[0m     \u001b[38;5;28;01mraise\u001b[39;00m \u001b[38;5;167;01mValueError\u001b[39;00m(\n\u001b[0;32m    281\u001b[0m         \u001b[38;5;124mf\u001b[39m\u001b[38;5;124m\"\u001b[39m\u001b[38;5;124mIPython won\u001b[39m\u001b[38;5;124m'\u001b[39m\u001b[38;5;124mt let you open fd=\u001b[39m\u001b[38;5;132;01m{\u001b[39;00mfile\u001b[38;5;132;01m}\u001b[39;00m\u001b[38;5;124m by default \u001b[39m\u001b[38;5;124m\"\u001b[39m\n\u001b[0;32m    282\u001b[0m         \u001b[38;5;124m\"\u001b[39m\u001b[38;5;124mas it is likely to crash IPython. If you know what you are doing, \u001b[39m\u001b[38;5;124m\"\u001b[39m\n\u001b[0;32m    283\u001b[0m         \u001b[38;5;124m\"\u001b[39m\u001b[38;5;124myou can use builtins\u001b[39m\u001b[38;5;124m'\u001b[39m\u001b[38;5;124m open.\u001b[39m\u001b[38;5;124m\"\u001b[39m\n\u001b[0;32m    284\u001b[0m     )\n\u001b[1;32m--> 286\u001b[0m \u001b[38;5;28;01mreturn\u001b[39;00m io_open(file, \u001b[38;5;241m*\u001b[39margs, \u001b[38;5;241m*\u001b[39m\u001b[38;5;241m*\u001b[39mkwargs)\n",
      "\u001b[1;31mFileNotFoundError\u001b[0m: [Errno 2] No such file or directory: 'input.txt'"
     ]
    }
   ],
   "source": [
    "# Python equivalent of the C++ code\n",
    "\n",
    "# Redirecting input/output to files\n",
    "import sys\n",
    "sys.stdin = open('input.txt', 'r')\n",
    "sys.stdout = open('output.txt', 'w')\n",
    "\n",
    "# Read the number of test cases\n",
    "testcase = int(input())\n",
    "v = []\n",
    "\n",
    "# Reading input pairs and storing in a list\n",
    "for _ in range(testcase):\n",
    "    Num1, Num2 = map(int, input().split())\n",
    "    v.append(Num1)\n",
    "    v.append(Num2)\n",
    "\n",
    "# Performing operations and writing results to output.txt\n",
    "print(f\"Sum of Two numbers: {v[0] + v[1]}\")\n",
    "print(f\"Subtraction of Two numbers: {v[2] - v[3]}\")\n",
    "print(f\"Multiplication of Two numbers: {v[4] * v[5]}\")\n",
    "print(f\"Division of Two numbers: {v[6] // v[7]}\")  # Using integer division for division\n"
   ]
  },
  {
   "cell_type": "code",
   "execution_count": null,
   "id": "baeed624-c383-4d80-8ddc-e089c1704ba5",
   "metadata": {},
   "outputs": [],
   "source": []
  }
 ],
 "metadata": {
  "kernelspec": {
   "display_name": "Python 3 (ipykernel)",
   "language": "python",
   "name": "python3"
  },
  "language_info": {
   "codemirror_mode": {
    "name": "ipython",
    "version": 3
   },
   "file_extension": ".py",
   "mimetype": "text/x-python",
   "name": "python",
   "nbconvert_exporter": "python",
   "pygments_lexer": "ipython3",
   "version": "3.9.10"
  },
  "widgets": {
   "application/vnd.jupyter.widget-state+json": {
    "state": {},
    "version_major": 2,
    "version_minor": 0
   }
  }
 },
 "nbformat": 4,
 "nbformat_minor": 5
}
