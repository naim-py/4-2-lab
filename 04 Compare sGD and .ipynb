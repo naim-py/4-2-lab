{
 "cells": [
  {
   "cell_type": "markdown",
   "id": "5b6e14d3-0a69-482e-88d9-54d68506a188",
   "metadata": {},
   "source": [
    "# To compare the performance of Stochastic Gradient Descent (SGD) and the Batch method \n",
    "\n",
    "1.Convergence Rate: How quickly the error reduces over epochs.\n",
    "2.Final Error: The error after a fixed number of epochs.\n",
    "Batch Method:\n",
    "In the batch method, weight updates are computed using the average gradient over all the training examples, and the weights are updated once per epoch.\n",
    "\n",
    "Stochastic Gradient Descent (SGD) Method:\n",
    "In SGD, weight updates are made for each training example individually. This often leads to faster, but noisier convergence."
   ]
  },
  {
   "cell_type": "code",
   "execution_count": 1,
   "id": "fa414204-9767-4f25-88d0-7626edcfe8d2",
   "metadata": {},
   "outputs": [],
   "source": [
    "import numpy as np\n",
    "import matplotlib.pyplot as plt\n",
    "\n",
    "def activation(x):\n",
    "    return np.where(x >= 0, 1, 0)  # Binary step function\n"
   ]
  },
  {
   "cell_type": "code",
   "execution_count": 2,
   "id": "fe562f37-808e-4373-bd0f-d01906fc37a0",
   "metadata": {},
   "outputs": [],
   "source": [
    "def delta_rule_sgd(X, T, epochs=100, lr=0.1):\n",
    "    W = np.random.randn(X.shape[1])  # Initialize weights\n",
    "    error_list = []\n",
    "    \n",
    "    for epoch in range(epochs):\n",
    "        total_error = 0\n",
    "        indices = np.arange(X.shape[0])\n",
    "        np.random.shuffle(indices)  # Shuffle data for each epoch (SGD)\n",
    "        \n",
    "        for i in indices:\n",
    "            x_i = X[i]\n",
    "            t_i = T[i]\n",
    "            net_input = np.dot(x_i, W)\n",
    "            y_i = activation(net_input)\n",
    "            error = t_i - y_i\n",
    "            W += lr * error * x_i  # Delta rule update\n",
    "            total_error += error**2\n",
    "        \n",
    "        error_list.append(total_error)\n",
    "    \n",
    "    return W, error_list\n"
   ]
  },
  {
   "cell_type": "code",
   "execution_count": 3,
   "id": "6112eb1e-0856-446d-9b3a-eedf821aeeba",
   "metadata": {},
   "outputs": [],
   "source": [
    "# Step 3: Delta rule with Batch method"
   ]
  },
  {
   "cell_type": "code",
   "execution_count": 4,
   "id": "cf4c81c1-e113-4977-9ba6-0207db573ee8",
   "metadata": {},
   "outputs": [],
   "source": [
    "def delta_rule_batch(X, T, epochs=100, lr=0.1):\n",
    "    W = np.random.randn(X.shape[1])  # Initialize weights\n",
    "    error_list = []\n",
    "    \n",
    "    for epoch in range(epochs):\n",
    "        total_error = 0\n",
    "        weight_update = np.zeros(W.shape)  # Accumulate weight updates\n",
    "        \n",
    "        for i in range(X.shape[0]):\n",
    "            x_i = X[i]\n",
    "            t_i = T[i]\n",
    "            net_input = np.dot(x_i, W)\n",
    "            y_i = activation(net_input)\n",
    "            error = t_i - y_i\n",
    "            weight_update += lr * error * x_i  # Accumulate weight updates\n",
    "            total_error += error**2\n",
    "        \n",
    "        W += weight_update / X.shape[0]  # Apply average update after each epoch (batch)\n",
    "        error_list.append(total_error)\n",
    "    \n",
    "    return W, error_list\n"
   ]
  },
  {
   "cell_type": "code",
   "execution_count": 5,
   "id": "24bb2cd9-4e76-4eed-9cc6-967d670c9c9a",
   "metadata": {},
   "outputs": [],
   "source": [
    "# Input data (including bias term as third column)\n",
    "X = np.array([[0, 0, 1],\n",
    "              [0, 1, 1],\n",
    "              [1, 0, 1],\n",
    "              [1, 1, 1]])\n",
    "\n",
    "# Target output\n",
    "T = np.array([0, 0, 1, 1])\n"
   ]
  },
  {
   "cell_type": "code",
   "execution_count": 6,
   "id": "ec5c2b9c-7429-419d-9d16-e5c3498117de",
   "metadata": {},
   "outputs": [],
   "source": [
    "# Train using SGD\n",
    "epochs = 100\n",
    "learning_rate = 0.1\n",
    "W_sgd, error_list_sgd = delta_rule_sgd(X, T, epochs=epochs, lr=learning_rate)\n",
    "\n",
    "# Train using Batch\n",
    "W_batch, error_list_batch = delta_rule_batch(X, T, epochs=epochs, lr=learning_rate)\n"
   ]
  },
  {
   "cell_type": "code",
   "execution_count": 7,
   "id": "36bcd1ee-0e4c-41dd-8b88-61e0c204382a",
   "metadata": {},
   "outputs": [
    {
     "data": {
      "image/png": "[encoded data removed]",
      "text/plain": [
       "<Figure size 640x480 with 1 Axes>"
      ]
     },
     "metadata": {},
     "output_type": "display_data"
    }
   ],
   "source": [
    "# Plot the convergence curve for SGD and Batch\n",
    "plt(figsize(5,5))\n",
    "plt.plot(range(epochs), error_list_sgd, label='SGD', color='blue')\n",
    "plt.plot(range(epochs), error_list_batch, label='Batch', color='red')\n",
    "plt.title('Convergence Curve: SGD vs Batch Method')\n",
    "plt.xlabel('Epochs')\n",
    "plt.ylabel('Sum of Squared Errors')\n",
    "plt.legend()\n",
    "plt.show()\n"
   ]
  },
  {
   "cell_type": "code",
   "execution_count": 8,
   "id": "7a4498ad-05e9-445a-9399-f20af6432db1",
   "metadata": {},
   "outputs": [
    {
     "name": "stdout",
     "output_type": "stream",
     "text": [
      "Predictions (SGD): [0 0 1 1]\n",
      "Predictions (Batch): [0 0 1 1]\n",
      "True Targets: [0 0 1 1]\n"
     ]
    }
   ],
   "source": [
    "# Test the final predictions of both models\n",
    "predictions_sgd = activation(np.dot(X, W_sgd))\n",
    "predictions_batch = activation(np.dot(X, W_batch))\n",
    "\n",
    "print(\"Predictions (SGD):\", predictions_sgd)\n",
    "print(\"Predictions (Batch):\", predictions_batch)\n",
    "print(\"True Targets:\", T)\n"
   ]
  },
  {
   "cell_type": "code",
   "execution_count": null,
   "id": "58448157-176c-490f-a316-4c1a617ae397",
   "metadata": {},
   "outputs": [],
   "source": []
  },
  {
   "cell_type": "raw",
   "id": "95de3bd9-d5da-43b9-8262-11b85df70d3c",
   "metadata": {},
   "source": [
    "Comparison:\n",
    "SGD:\n",
    "\n",
    "In each epoch, SGD updates weights for every single example. This can lead to faster convergence early on, but it also introduces more variance (noisy updates).\n",
    "Advantages: Faster updates, often finds a solution with less data processing per epoch.\n",
    "Disadvantages: May take more epochs to stabilize the solution; updates can be noisy.\n",
    "Batch:\n",
    "\n",
    "The batch method computes the weight update based on the gradient over all examples and updates weights only after processing the entire dataset in each epoch.\n",
    "Advantages: More stable and smooth convergence.\n",
    "Disadvantages: Slower to update weights, requires processing the entire dataset per epoch.\n",
    "Performance Comparison Metrics:\n",
    "Convergence Rate:\n",
    "The convergence curve will show how quickly the error decreases. Typically, the error in SGD fluctuates more compared to Batch, which is more stable.\n",
    "Final Error:\n",
    "After a set number of epochs, you can compare the final sum of squared errors. Depending on the task, one method may achieve lower final error than the other.\n",
    "Results:\n",
    "Convergence: You should observe that SGD may have a faster initial convergence but fluctuates more as it reaches the solution, while Batch converges more smoothly.\n",
    "Final Weights & Predictions: After training, you can check if both methods produce similar predictions and how well they approximate the target values."
   ]
  }
 ],
 "metadata": {
  "kernelspec": {
   "display_name": "Python 3 (ipykernel)",
   "language": "python",
   "name": "python3"
  },
  "language_info": {
   "codemirror_mode": {
    "name": "ipython",
    "version": 3
   },
   "file_extension": ".py",
   "mimetype": "text/x-python",
   "name": "python",
   "nbconvert_exporter": "python",
   "pygments_lexer": "ipython3",
   "version": "3.9.10"
  },
  "widgets": {
   "application/vnd.jupyter.widget-state+json": {
    "state": {},
    "version_major": 2,
    "version_minor": 0
   }
  }
 },
 "nbformat": 4,
 "nbformat_minor": 5
}
