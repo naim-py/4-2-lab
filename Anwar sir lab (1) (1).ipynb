{
 "cells": [
  {
   "cell_type": "markdown",
   "id": "acd9a528-a2fb-449e-936a-7d52d3aaa36f",
   "metadata": {},
   "source": [
    "# 01 \n",
    "Write a program in python to develop a simple calculator that would be able to\n",
    "take a number, an operator (addition/subtraction/multiplication/ division/modulo) and\n",
    "another number consecutively as input and the program will display the output after\n",
    "pressing \"=\" sign. Sample input: 1+2; 8%4; Sample output: 1+2=3; 8%4=0."
   ]
  },
  {
   "cell_type": "code",
   "execution_count": 1,
   "id": "03fe5317-3894-4df3-a645-72c0d2a4d089",
   "metadata": {},
   "outputs": [
    {
     "name": "stdin",
     "output_type": "stream",
     "text": [
      "Enter num1:  6\n",
      "Enter num2:  3\n",
      "Enter +, -, *, /, %:  *\n",
      "Enter =:  =\n"
     ]
    },
    {
     "name": "stdout",
     "output_type": "stream",
     "text": [
      "6.0 * 3.0 = 18.0\n"
     ]
    }
   ],
   "source": [
    "def warning():\n",
    "    print(\"Please Enter in this format (number1 operator number2) \")\n",
    "    \n",
    "def calculation(num1,op,num2):\n",
    "    if op==\"+\":\n",
    "        return num1+num2\n",
    "    elif op==\"-\":\n",
    "        return num1-num2\n",
    "    elif op==\"*\":\n",
    "        return num2*num1\n",
    "    elif op==\"/\":\n",
    "        return num1/num2\n",
    "    elif op==\"%\":\n",
    "        return num1%num2\n",
    "    else:\n",
    "        print(\"Please Enter Valid Operator(+,-,/,*,%)\")\n",
    "        \n",
    "        \n",
    "while True:        \n",
    "    try:\n",
    "        num1,op,num2=input().split(\" \")\n",
    "        num1,num2=int(num1),int(num2)\n",
    "        print(f\"{num1} {op} {num2} = {calculation(num1,op,num2)}\")\n",
    "    except:\n",
    "        print()\n",
    "        warning()\n",
    "        continue;\n",
    "    "
   ]
  },
  {
   "cell_type": "code",
   "execution_count": null,
   "id": "9c3b0651-ad98-4186-a5ab-b489928c9639",
   "metadata": {},
   "outputs": [
    {
     "name": "stdin",
     "output_type": "stream",
     "text": [
      " 1 + 3\n"
     ]
    },
    {
     "name": "stdout",
     "output_type": "stream",
     "text": [
      "1 + 3 = 4\n"
     ]
    },
    {
     "name": "stdin",
     "output_type": "stream",
     "text": [
      " 1 -2\n"
     ]
    },
    {
     "name": "stdout",
     "output_type": "stream",
     "text": [
      "\n",
      "Please Enter in this format (number1 operator number2) \n"
     ]
    }
   ],
   "source": [
    "def warning():\n",
    "    print(\"Please Enter in this format (number1 operator number2) \")\n",
    "    \n",
    "def calculation(num1,op,num2):\n",
    "    if op==\"+\":\n",
    "        return num1+num2\n",
    "    elif op==\"-\":\n",
    "        return num1-num2\n",
    "    elif op==\"*\":\n",
    "        return num2*num1\n",
    "    elif op==\"/\":\n",
    "        return num1/num2\n",
    "    elif op==\"%\":\n",
    "        return num1%num2\n",
    "    else:\n",
    "        print(\"Please Enter Valid Operator(+,-,/,*,%)\")\n",
    "        \n",
    "        \n",
    "while True:        \n",
    "    try:\n",
    "        num1,op,num2=input().split(\" \")\n",
    "        num1,num2=int(num1),int(num2)\n",
    "        print(f\"{num1} {op} {num2} = {calculation(num1,op,num2)}\")\n",
    "    except:\n",
    "        print()\n",
    "        warning()\n",
    "        continue;\n",
    "    "
   ]
  },
  {
   "cell_type": "markdown",
   "id": "d4e2bd3f-3e08-4c5c-913b-2b95a5b3e008",
   "metadata": {},
   "source": [
    "# 02\n",
    "Write a program in \"JAVA\" or \"C\" that will take two 'n' integers as input until a particular\n",
    "operator and produce 'n' output.\n",
    "Sample input: 4 5 7 8 20 40 +; Sample output: 9 15 60."
   ]
  },
  {
   "cell_type": "code",
   "execution_count": 5,
   "id": "8937a837-2ada-41c6-81a9-061a2f593098",
   "metadata": {},
   "outputs": [
    {
     "name": "stdin",
     "output_type": "stream",
     "text": [
      "Enter number:  4\n"
     ]
    },
    {
     "name": "stdout",
     "output_type": "stream",
     "text": [
      "Enter numbers:\n"
     ]
    },
    {
     "name": "stdin",
     "output_type": "stream",
     "text": [
      " 3\n",
      " 4\n",
      " 5\n",
      " 6\n",
      " 6\n",
      " 7\n",
      " 7\n",
      " 8\n",
      "Enter operator (+, -, *, /):  *\n"
     ]
    },
    {
     "name": "stdout",
     "output_type": "stream",
     "text": [
      "3.0 * 4.0 = 12.0\n",
      "5.0 * 6.0 = 30.0\n",
      "6.0 * 7.0 = 42.0\n",
      "7.0 * 8.0 = 56.0\n"
     ]
    }
   ],
   "source": [
    "\n",
    "n = int(input(\"Enter number: \"))\n",
    "\n",
    "# Initializing a vector with 2*n elements\n",
    "vec = [0] * (2 * n)\n",
    "\n",
    "print(\"Enter numbers:\")\n",
    "for i in range(2 * n):\n",
    "    vec[i] = float(input())\n",
    "\n",
    "# Taking the operator input\n",
    "ch = input(\"Enter operator (+, -, *, /): \")\n",
    "\n",
    "# Performing operations based on the input operator\n",
    "if ch == '+':\n",
    "    for i in range(0, 2 * n, 2):\n",
    "        print(f\"{vec[i]} + {vec[i+1]} = {vec[i] + vec[i+1]}\")\n",
    "elif ch == '-':\n",
    "    for i in range(0, 2 * n, 2):\n",
    "        print(f\"{vec[i]} - {vec[i+1]} = {vec[i] - vec[i+1]}\")\n",
    "elif ch == '*':\n",
    "    for i in range(0, 2 * n, 2):\n",
    "        print(f\"{vec[i]} * {vec[i+1]} = {vec[i] * vec[i+1]}\")\n",
    "elif ch == '/':\n",
    "    for i in range(0, 2 * n, 2):\n",
    "        if vec[i+1] != 0:\n",
    "            print(f\"{vec[i]} / {vec[i+1]} = {vec[i] / vec[i+1]}\")\n",
    "        else:\n",
    "            print(f\"Division by zero is not allowed for {vec[i]} / {vec[i+1]}\")\n",
    "else:\n",
    "    print(\"Invalid operator\")\n"
   ]
  },
  {
   "cell_type": "markdown",
   "id": "4dad0ca0-5b4e-40e8-a4c4-f6b1cfad6af8",
   "metadata": {},
   "source": [
    "# 03\n",
    "Write a program in \"JAVA\" or \"C\" to check weather a number or string is palindrome or\n",
    "not.\n",
    "N.B: your program must not take any test case number such as 1 or 2 for the desired cases\n",
    "from the user. Program user will insert a number or string as input directly and the program\n",
    "will display the exact result in the output console.\n"
   ]
  },
  {
   "cell_type": "code",
   "execution_count": 11,
   "id": "15fed528-1772-4cf6-9c01-13e778c0fea1",
   "metadata": {},
   "outputs": [
    {
     "name": "stdin",
     "output_type": "stream",
     "text": [
      "Enter a number or string:  naim\n"
     ]
    },
    {
     "name": "stdout",
     "output_type": "stream",
     "text": [
      "naim is not a palindrome.\n"
     ]
    }
   ],
   "source": [
    "# Function to check if input is a palindrome\n",
    "def is_palindrome(value):\n",
    "    value = str(value)  # Convert input to string\n",
    "    return value == value[::-1]  # Check if string is the same when reversed\n",
    "\n",
    "# Main function to take input and show the result\n",
    "def main():\n",
    "    user_input = input(\"Enter a number or string: \")  # Take input from user\n",
    "    if is_palindrome(user_input):  # Check if input is palindrome\n",
    "        print(f\"{user_input} is a palindrome.\")\n",
    "    else:\n",
    "        print(f\"{user_input} is not a palindrome.\")\n",
    "\n",
    "# Run the program\n",
    "if __name__ == \"__main__\":\n",
    "    main()\n"
   ]
  },
  {
   "cell_type": "markdown",
   "id": "1b8f049d-48bc-4c01-ab40-2a2c4ba83480",
   "metadata": {},
   "source": [
    "# 04 \n",
    "Write down the ATM system specifications and report the various bugs."
   ]
  },
  {
   "cell_type": "code",
   "execution_count": 6,
   "id": "94c8c01d-b9ea-43b6-a153-2c62079e34b3",
   "metadata": {},
   "outputs": [
    {
     "name": "stdin",
     "output_type": "stream",
     "text": [
      "Enter array size:  5\n"
     ]
    },
    {
     "name": "stdout",
     "output_type": "stream",
     "text": [
      "Enter array elements:\n"
     ]
    },
    {
     "name": "stdin",
     "output_type": "stream",
     "text": [
      " 4\n",
      " 5\n",
      " 6\n",
      " 2\n",
      " 7\n"
     ]
    },
    {
     "name": "stdout",
     "output_type": "stream",
     "text": [
      "\n",
      "Sum: 24\n",
      "\n",
      "Average: 4.8\n"
     ]
    }
   ],
   "source": []
  },
  {
   "cell_type": "markdown",
   "id": "b08a288b-f1c6-4024-9373-155deab98027",
   "metadata": {},
   "source": [
    "# 05 \n",
    "Write a program in \"JAVA\" or \"C\" to find out the factorial of a number using while or for\n",
    "loop. Also verify the results obtained from each case."
   ]
  },
  {
   "cell_type": "code",
   "execution_count": 18,
   "id": "5b874b5f-a516-4827-b729-75651601e540",
   "metadata": {},
   "outputs": [
    {
     "name": "stdin",
     "output_type": "stream",
     "text": [
      "Enter a number:  6\n"
     ]
    },
    {
     "name": "stdout",
     "output_type": "stream",
     "text": [
      "Factorial using for loop: 720\n",
      "Factorial using while loop: 720\n"
     ]
    }
   ],
   "source": [
    "# Input number from the user\n",
    "num = int(input(\"Enter a number: \"))\n",
    "\n",
    "# Calculating factorial using a for loop\n",
    "fact = 1\n",
    "for i in range(1, num + 1):\n",
    "    fact *= i\n",
    "print(f\"Factorial using for loop: {fact}\")\n",
    "\n",
    "# Calculating factorial using a while loop\n",
    "fact = 1\n",
    "i = 1\n",
    "while i <= num:\n",
    "    fact *= i\n",
    "    i += 1\n",
    "print(f\"Factorial using while loop: {fact}\")\n"
   ]
  },
  {
   "cell_type": "markdown",
   "id": "9a85cd78-a2b6-4f11-af30-768ce00c048f",
   "metadata": {},
   "source": [
    "# 06\n",
    "Write a program in \"JAVA\" or \"C\" that will find sum and average of array using do while\n",
    "loop and 2 user defined function."
   ]
  },
  {
   "cell_type": "code",
   "execution_count": 8,
   "id": "06c3967d-e461-4211-bbb4-73867ec1bd78",
   "metadata": {},
   "outputs": [
    {
     "name": "stdin",
     "output_type": "stream",
     "text": [
      "Enter array size:  3\n"
     ]
    },
    {
     "name": "stdout",
     "output_type": "stream",
     "text": [
      "Enter array elements: \n"
     ]
    },
    {
     "name": "stdin",
     "output_type": "stream",
     "text": [
      " 2\n",
      " 5\n",
      " 6\n"
     ]
    },
    {
     "name": "stdout",
     "output_type": "stream",
     "text": [
      "\n",
      "Sum: 13\n",
      "Average: 4.333333333333333\n",
      "\n"
     ]
    }
   ],
   "source": [
    "# Function to calculate the sum of the array\n",
    "def sum_array(arr1):\n",
    "    i = 0\n",
    "    total_sum = 0\n",
    "    while i < len(arr1):\n",
    "        total_sum += arr1[i]\n",
    "        i += 1\n",
    "    print(f\"Sum: {total_sum}\")\n",
    "    print(f\"Average: {total_sum / len(arr1)}\")\n",
    "# Function to calculate the average of the array\n",
    "def avg_array(arr1):\n",
    "    i = 0\n",
    "    total_sum = 0\n",
    "    while i < len(arr1):\n",
    "        total_sum += arr1[i]\n",
    "        i += 1\n",
    "    #print(f\"Average: {total_sum / len(arr1)}\")\n",
    "\n",
    "# Main program\n",
    "def main():\n",
    "    n = int(input(\"Enter array size: \"))\n",
    "    arr = []\n",
    "\n",
    "    print(\"Enter array elements: \")\n",
    "    for i in range(n):\n",
    "        arr.append(int(input()))  # Adding elements to the array\n",
    "\n",
    "    print()\n",
    "    sum_array(arr)  # Calling sum function\n",
    "    print()\n",
    "    avg_array(arr)  # Calling average function\n",
    "\n",
    "if __name__ == \"__main__\":\n",
    "    main()\n"
   ]
  },
  {
   "cell_type": "markdown",
   "id": "2d013111-322f-49a3-850e-9bbf599fb7d0",
   "metadata": {},
   "source": [
    "# 07\n",
    "Write a simple \"JAVA\" program to explain classNotFound Exception and\n",
    "endOfFile(EOF) exception"
   ]
  },
  {
   "cell_type": "code",
   "execution_count": 7,
   "id": "e1736602-250f-48f6-99bd-4199fc4c38ce",
   "metadata": {},
   "outputs": [
    {
     "name": "stdout",
     "output_type": "stream",
     "text": [
      "Class Found inside module.\n",
      "---------\n",
      "EOF exception for output\n",
      "Department Name: Information and Communication Engineering."
     ]
    }
   ],
   "source": [
    "import os\n",
    "\n",
    "# Simulating the `Study.ExistClass`\n",
    "class ExistClass:\n",
    "    @staticmethod\n",
    "    def get_department_name():\n",
    "        print(\"Information and Communication Engineering\")\n",
    "\n",
    "# Main code\n",
    "def main():\n",
    "    try:\n",
    "        # Simulating Class.forName equivalent in Python\n",
    "        # Checking if the class ExistClass exists in the module\n",
    "        if 'ExistClass' in globals():\n",
    "            print(\"Class Found inside module.\\n---------\")\n",
    "        else:\n",
    "            raise ImportError(\"ClassNotFoundException\")\n",
    "    except ImportError:\n",
    "        print(\"ClassNotFoundException\")\n",
    "    \n",
    "    print(\"EOF exception for output\")\n",
    "\n",
    "    # Handling file read operation\n",
    "    try:\n",
    "        with open('input.txt', 'rb') as f:\n",
    "            while True:\n",
    "                try:\n",
    "                    ch = f.read(1)  # Reading one byte at a time\n",
    "                    if not ch:  # If end of file is reached, break the loop\n",
    "                        break\n",
    "                    print(ch.decode(), end='')  # Decoding and printing the byte as a character\n",
    "                except EOFError:\n",
    "                    print(\"\\nEnd of file reached\")\n",
    "                    break\n",
    "    except FileNotFoundError:\n",
    "        print(\"File not found: input.txt\")\n",
    "    except Exception as e:\n",
    "        print(f\"An error occurred: {e}\")\n",
    "\n",
    "if __name__ == \"__main__\":\n",
    "    main()\n"
   ]
  },
  {
   "cell_type": "markdown",
   "id": "4ff35536-8fe2-4102-9c13-810d48115378",
   "metadata": {},
   "source": [
    "# 08\n",
    "Write a program in \"JAVA\" or \"C\" that will read a input.txt file containing n positive\n",
    "integers and calculate addition, subtraction, multiplication and division in separate\n",
    "output.txt file.\n",
    "Sample input: 5 5 9 8; Sample output: Case-1:10 0 25 1; Case-2: 17 1 72 1."
   ]
  },
  {
   "cell_type": "code",
   "execution_count": 6,
   "id": "1b635788-b35f-4575-9020-f59055bc15c7",
   "metadata": {},
   "outputs": [
    {
     "ename": "FileNotFoundError",
     "evalue": "[Errno 2] No such file or directory: 'inpu.txt'",
     "output_type": "error",
     "traceback": [
      "\u001b[1;31m---------------------------------------------------------------------------\u001b[0m",
      "\u001b[1;31mFileNotFoundError\u001b[0m                         Traceback (most recent call last)",
      "Cell \u001b[1;32mIn[6], line 14\u001b[0m\n\u001b[0;32m     10\u001b[0m     \u001b[38;5;28;01melse\u001b[39;00m:\n\u001b[0;32m     11\u001b[0m         \u001b[38;5;28mprint\u001b[39m(\u001b[38;5;124m\"\u001b[39m\u001b[38;5;124mPlease Enter Valid Operator(+,-,/,*)\u001b[39m\u001b[38;5;124m\"\u001b[39m)\n\u001b[1;32m---> 14\u001b[0m \u001b[38;5;28;01mwith\u001b[39;00m \u001b[38;5;28;43mopen\u001b[39;49m\u001b[43m(\u001b[49m\u001b[38;5;124;43m'\u001b[39;49m\u001b[38;5;124;43minpu.txt\u001b[39;49m\u001b[38;5;124;43m'\u001b[39;49m\u001b[43m,\u001b[49m\u001b[43m \u001b[49m\u001b[38;5;124;43m'\u001b[39;49m\u001b[38;5;124;43mr\u001b[39;49m\u001b[38;5;124;43m'\u001b[39;49m\u001b[43m)\u001b[49m \u001b[38;5;28;01mas\u001b[39;00m file:\n\u001b[0;32m     15\u001b[0m     input_data \u001b[38;5;241m=\u001b[39m file\u001b[38;5;241m.\u001b[39mread()\n\u001b[0;32m     17\u001b[0m elements \u001b[38;5;241m=\u001b[39m \u001b[38;5;28mlist\u001b[39m(\u001b[38;5;28mmap\u001b[39m(\u001b[38;5;28mint\u001b[39m, input_data\u001b[38;5;241m.\u001b[39mreplace(\u001b[38;5;124m'\u001b[39m\u001b[38;5;124m,\u001b[39m\u001b[38;5;124m'\u001b[39m, \u001b[38;5;124m'\u001b[39m\u001b[38;5;124m \u001b[39m\u001b[38;5;124m'\u001b[39m)\u001b[38;5;241m.\u001b[39msplit()))\n",
      "File \u001b[1;32m~\\AppData\\Local\\Programs\\Python\\Python39\\lib\\site-packages\\IPython\\core\\interactiveshell.py:286\u001b[0m, in \u001b[0;36m_modified_open\u001b[1;34m(file, *args, **kwargs)\u001b[0m\n\u001b[0;32m    279\u001b[0m \u001b[38;5;28;01mif\u001b[39;00m file \u001b[38;5;129;01min\u001b[39;00m {\u001b[38;5;241m0\u001b[39m, \u001b[38;5;241m1\u001b[39m, \u001b[38;5;241m2\u001b[39m}:\n\u001b[0;32m    280\u001b[0m     \u001b[38;5;28;01mraise\u001b[39;00m \u001b[38;5;167;01mValueError\u001b[39;00m(\n\u001b[0;32m    281\u001b[0m         \u001b[38;5;124mf\u001b[39m\u001b[38;5;124m\"\u001b[39m\u001b[38;5;124mIPython won\u001b[39m\u001b[38;5;124m'\u001b[39m\u001b[38;5;124mt let you open fd=\u001b[39m\u001b[38;5;132;01m{\u001b[39;00mfile\u001b[38;5;132;01m}\u001b[39;00m\u001b[38;5;124m by default \u001b[39m\u001b[38;5;124m\"\u001b[39m\n\u001b[0;32m    282\u001b[0m         \u001b[38;5;124m\"\u001b[39m\u001b[38;5;124mas it is likely to crash IPython. If you know what you are doing, \u001b[39m\u001b[38;5;124m\"\u001b[39m\n\u001b[0;32m    283\u001b[0m         \u001b[38;5;124m\"\u001b[39m\u001b[38;5;124myou can use builtins\u001b[39m\u001b[38;5;124m'\u001b[39m\u001b[38;5;124m open.\u001b[39m\u001b[38;5;124m\"\u001b[39m\n\u001b[0;32m    284\u001b[0m     )\n\u001b[1;32m--> 286\u001b[0m \u001b[38;5;28;01mreturn\u001b[39;00m io_open(file, \u001b[38;5;241m*\u001b[39margs, \u001b[38;5;241m*\u001b[39m\u001b[38;5;241m*\u001b[39mkwargs)\n",
      "\u001b[1;31mFileNotFoundError\u001b[0m: [Errno 2] No such file or directory: 'inpu.txt'"
     ]
    }
   ],
   "source": [
    "def calculation(num1, op, num2):\n",
    "    if op == \"+\":\n",
    "        return num1 + num2\n",
    "    elif op == \"-\":\n",
    "        return num1 - num2\n",
    "    elif op == \"*\":\n",
    "        return num2 * num1\n",
    "    elif op == \"/\":\n",
    "        return num1 / num2\n",
    "    else:\n",
    "        print(\"Please Enter Valid Operator(+,-,/,*)\")\n",
    "\n",
    "\n",
    "with open('inpu.txt', 'r') as file:\n",
    "    input_data = file.read()\n",
    "\n",
    "elements = list(map(int, input_data.replace(',', ' ').split()))\n",
    "n = len(elements)\n",
    "\n",
    "for i in range(0, n, 2):\n",
    "    add = calculation(elements[i], \"+\", elements[i + 1])\n",
    "    sub = calculation(elements[i], \"-\", elements[i + 1])\n",
    "    mul = calculation(elements[i], \"*\", elements[i + 1])\n",
    "    div = calculation(elements[i], \"/\", elements[i + 1])\n",
    "    result = [add, sub, mul, div]\n",
    "    with open('outpu.txt', 'a') as file:\n",
    "        file.write(f\"Case: {i // 2 + 1}: \" + ' '.join(map(str, result)) + \"\\n\")\n",
    "print(\"Successfully Created File with Required Calculations\")\n",
    "print()"
   ]
  },
  {
   "cell_type": "code",
   "execution_count": null,
   "id": "baeed624-c383-4d80-8ddc-e089c1704ba5",
   "metadata": {},
   "outputs": [],
   "source": []
  }
 ],
 "metadata": {
  "kernelspec": {
   "display_name": "Python 3 (ipykernel)",
   "language": "python",
   "name": "python3"
  },
  "language_info": {
   "codemirror_mode": {
    "name": "ipython",
    "version": 3
   },
   "file_extension": ".py",
   "mimetype": "text/x-python",
   "name": "python",
   "nbconvert_exporter": "python",
   "pygments_lexer": "ipython3",
   "version": "3.9.10"
  },
  "widgets": {
   "application/vnd.jupyter.widget-state+json": {
    "state": {},
    "version_major": 2,
    "version_minor": 0
   }
  }
 },
 "nbformat": 4,
 "nbformat_minor": 5
}
